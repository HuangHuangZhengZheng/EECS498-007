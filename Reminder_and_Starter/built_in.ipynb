{
 "cells": [
  {
   "cell_type": "markdown",
   "id": "bf1c5c5c",
   "metadata": {},
   "source": [
    "# 50 built-in functions in Python"
   ]
  },
  {
   "cell_type": "code",
   "execution_count": 1,
   "id": "18d9e28b",
   "metadata": {},
   "outputs": [
    {
     "name": "stdout",
     "output_type": "stream",
     "text": [
      "5.0\n",
      "5\n",
      "3.14\n"
     ]
    }
   ],
   "source": [
    "# 1. abs()\n",
    "n: complex = 3 - 4j\n",
    "n2: int = 5\n",
    "n3: float = 3.14\n",
    "print(abs(n))  # 5.0\n",
    "print(abs(n2))  # 5\n",
    "print(abs(n3))  # 3.14"
   ]
  },
  {
   "cell_type": "code",
   "execution_count": 3,
   "id": "ce824145",
   "metadata": {},
   "outputs": [
    {
     "name": "stdout",
     "output_type": "stream",
     "text": [
      "False\n",
      "True\n"
     ]
    }
   ],
   "source": [
    "# 2. all()\n",
    "v: list[int] = [1, 0, 1, 1, 0]\n",
    "v2: list[int] = [1, 1, 1, 1, 1]\n",
    "print(all(v)) # False\n",
    "print(all(v2)) # True"
   ]
  },
  {
   "cell_type": "code",
   "execution_count": 4,
   "id": "ce803a19",
   "metadata": {},
   "outputs": [
    {
     "name": "stdout",
     "output_type": "stream",
     "text": [
      "True\n",
      "True\n"
     ]
    }
   ],
   "source": [
    "# 3. any()\n",
    "print(any(v)) # True\n",
    "print(any(v2)) # True\n"
   ]
  },
  {
   "cell_type": "code",
   "execution_count": 5,
   "id": "3708568b",
   "metadata": {},
   "outputs": [
    {
     "name": "stdout",
     "output_type": "stream",
     "text": [
      "['d', '\\u4f60\\u597d', '\\u56e7']\n",
      "'123'\n"
     ]
    }
   ],
   "source": [
    "# 4. ascii()\n",
    "my_char: list[str] = ['d', '你好', '囧']\n",
    "n: str = '123'\n",
    "print(ascii(my_char))\n",
    "print(ascii(n))"
   ]
  },
  {
   "cell_type": "code",
   "execution_count": 6,
   "id": "8baeb961",
   "metadata": {},
   "outputs": [
    {
     "name": "stdout",
     "output_type": "stream",
     "text": [
      "0b1010\n",
      "0b11110100001001000001\n"
     ]
    }
   ],
   "source": [
    "# 5. bin()\n",
    "print(bin(10)) # Output: 0b1010\n",
    "print(bin(1_000_001))"
   ]
  },
  {
   "cell_type": "code",
   "execution_count": 7,
   "id": "1b929f25",
   "metadata": {},
   "outputs": [
    {
     "name": "stdout",
     "output_type": "stream",
     "text": [
      "False\n",
      "True\n",
      "False\n",
      "True\n",
      "False\n",
      "False\n",
      "True\n",
      "False\n",
      "True\n",
      "False\n",
      "True\n"
     ]
    }
   ],
   "source": [
    "# 6. bool()\n",
    "print(bool(0)) # False\n",
    "print(bool(1)) # True\n",
    "print(bool(0.0)) # False\n",
    "print(bool(1.0)) # True\n",
    "print(bool(None)) # False\n",
    "print(bool(\"\")) # False\n",
    "print(bool(\" \")) # True\n",
    "print(bool([])) # False\n",
    "print(bool([1])) # True\n",
    "print(bool(())) # False\n",
    "print(bool((1,))) # True"
   ]
  },
  {
   "cell_type": "code",
   "execution_count": 8,
   "id": "13d12d0f",
   "metadata": {},
   "outputs": [
    {
     "name": "stdout",
     "output_type": "stream",
     "text": [
      "True\n",
      "False\n"
     ]
    }
   ],
   "source": [
    "# 7. callable\n",
    "def my_func():\n",
    "    print(\"Hello\")\n",
    "\n",
    "n: str = \"Hello\"\n",
    "\n",
    "print(callable(my_func)) # True\n",
    "print(callable(n)) # False"
   ]
  },
  {
   "cell_type": "code",
   "execution_count": 9,
   "id": "78eff421",
   "metadata": {},
   "outputs": [
    {
     "name": "stdout",
     "output_type": "stream",
     "text": [
      "A\n",
      "a\n"
     ]
    }
   ],
   "source": [
    "# 8. chr()\n",
    "\n",
    "print(chr(65)) # A\n",
    "print(chr(97)) # a"
   ]
  },
  {
   "cell_type": "code",
   "execution_count": 11,
   "id": "6cf34c2e",
   "metadata": {},
   "outputs": [
    {
     "name": "stdout",
     "output_type": "stream",
     "text": [
      "0j\n",
      "(1+0j)\n",
      "(1+2j)\n",
      "(1+2j)\n"
     ]
    }
   ],
   "source": [
    "# 9. complex()\n",
    "print(complex())\n",
    "# Output: (0+0j)\n",
    "print(complex(1))\n",
    "# Output: (1+0j)\n",
    "print(complex(1,2))\n",
    "\n",
    "print(complex('1+2j'))"
   ]
  },
  {
   "cell_type": "code",
   "execution_count": null,
   "id": "165ab794",
   "metadata": {},
   "outputs": [
    {
     "name": "stdout",
     "output_type": "stream",
     "text": [
      "{'apple': 1, 'banana': 2, 'orange': 3}\n",
      "{'a': 'Y', 'b': 'Z'}\n"
     ]
    }
   ],
   "source": [
    "# 10. dict\n",
    "e: dict = dict()\n",
    "e1: dict = {}\n",
    "\n",
    "con: list[tuple[str, int]] = [('apple', 1), ('banana', 2), ('orange', 3)]\n",
    "d: dict = dict(con)\n",
    "print(d)\n",
    "\n",
    "print(dict(['aY', 'bZ']))\n",
    "\n"
   ]
  },
  {
   "cell_type": "code",
   "execution_count": 14,
   "id": "a0aa06d2",
   "metadata": {},
   "outputs": [
    {
     "name": "stdout",
     "output_type": "stream",
     "text": [
      "['In', 'Out', '_', '__', '___', '__annotations__', '__builtin__', '__builtins__', '__doc__', '__loader__', '__name__', '__package__', '__spec__', '__vsc_ipynb_file__', '_dh', '_i', '_i1', '_i10', '_i11', '_i12', '_i13', '_i14', '_i2', '_i3', '_i4', '_i5', '_i6', '_i7', '_i8', '_i9', '_ih', '_ii', '_iii', '_oh', 'con', 'd', 'e', 'e1', 'exit', 'get_ipython', 'my_char', 'my_func', 'n', 'n2', 'n3', 'open', 'quit', 'v', 'v2']\n",
      "['__abs__', '__add__', '__and__', '__bool__', '__ceil__', '__class__', '__delattr__', '__dir__', '__divmod__', '__doc__', '__eq__', '__float__', '__floor__', '__floordiv__', '__format__', '__ge__', '__getattribute__', '__getnewargs__', '__getstate__', '__gt__', '__hash__', '__index__', '__init__', '__init_subclass__', '__int__', '__invert__', '__le__', '__lshift__', '__lt__', '__mod__', '__mul__', '__ne__', '__neg__', '__new__', '__or__', '__pos__', '__pow__', '__radd__', '__rand__', '__rdivmod__', '__reduce__', '__reduce_ex__', '__repr__', '__rfloordiv__', '__rlshift__', '__rmod__', '__rmul__', '__ror__', '__round__', '__rpow__', '__rrshift__', '__rshift__', '__rsub__', '__rtruediv__', '__rxor__', '__setattr__', '__sizeof__', '__str__', '__sub__', '__subclasshook__', '__truediv__', '__trunc__', '__xor__', 'as_integer_ratio', 'bit_count', 'bit_length', 'conjugate', 'denominator', 'from_bytes', 'imag', 'is_integer', 'numerator', 'real', 'to_bytes']\n",
      "['JSONDecodeError', 'JSONDecoder', 'JSONEncoder', '__all__', '__author__', '__builtins__', '__cached__', '__doc__', '__file__', '__loader__', '__name__', '__package__', '__path__', '__spec__', '__version__', '_default_decoder', '_default_encoder', 'codecs', 'decoder', 'detect_encoding', 'dump', 'dumps', 'encoder', 'load', 'loads', 'scanner']\n"
     ]
    }
   ],
   "source": [
    "# 11. dir()\n",
    "print(dir()) # returns a list of all the attributes and methods of the current module\n",
    "print(dir(int))\n",
    "\n",
    "import json\n",
    "print(dir(json))"
   ]
  },
  {
   "cell_type": "code",
   "execution_count": 16,
   "id": "59c1183c",
   "metadata": {},
   "outputs": [
    {
     "name": "stdout",
     "output_type": "stream",
     "text": [
      "(3, 1)\n",
      "(3.0, 1.5)\n"
     ]
    }
   ],
   "source": [
    "# 12. divmod()\n",
    "\n",
    "print(divmod(10, 3))  # Output: (3, 1)\n",
    "print(divmod(10.5, 3))"
   ]
  },
  {
   "cell_type": "code",
   "execution_count": 18,
   "id": "9a748627",
   "metadata": {},
   "outputs": [
    {
     "name": "stdout",
     "output_type": "stream",
     "text": [
      "<enumerate object at 0x000001E3E7E098A0>\n",
      "[(0, 'apple'), (1, 'banana'), (2, 'cherry')]\n",
      "[]\n"
     ]
    }
   ],
   "source": [
    "# 13. enumerate\n",
    "a: list[str] = ['apple', 'banana', 'cherry']\n",
    "e: enumerate = enumerate(a)\n",
    "\n",
    "print(e)\n",
    "\n",
    "print(list(e))\n",
    "print(list(e)) # empty list, because we have already iterated over the list"
   ]
  },
  {
   "cell_type": "code",
   "execution_count": null,
   "id": "0125a4bd",
   "metadata": {},
   "outputs": [
    {
     "name": "stdout",
     "output_type": "stream",
     "text": [
      "3\n"
     ]
    }
   ],
   "source": [
    "# 14. eval()\n",
    "s: str = \"1 + 2\"\n",
    "print(eval(s))  # Output: 3\n"
   ]
  },
  {
   "cell_type": "code",
   "execution_count": 20,
   "id": "ca16e213",
   "metadata": {},
   "outputs": [
    {
     "name": "stdout",
     "output_type": "stream",
     "text": [
      "30\n",
      "hi!\n",
      "10\n"
     ]
    }
   ],
   "source": [
    "# 15. exec\n",
    "source = \"\"\"\n",
    "a = 10\n",
    "b = 20\n",
    "\n",
    "print(a + b)\n",
    "print(\"hi!\")\n",
    "\"\"\"\n",
    "\n",
    "exec(source)\n",
    "\n",
    "print(a)\n"
   ]
  },
  {
   "cell_type": "code",
   "execution_count": 1,
   "id": "2eca52c0",
   "metadata": {},
   "outputs": [
    {
     "name": "stdout",
     "output_type": "stream",
     "text": [
      "<filter object at 0x0000015C1DF90640>\n",
      "['james', 'john', 'jack', 'jane']\n"
     ]
    }
   ],
   "source": [
    "# 16. filter\n",
    "names: list[str] = ['james', 'JB', 'john', 'jack', 'jane', 'Finn']\n",
    "\n",
    "def filter_names(name: str) -> bool:\n",
    "    return name.startswith('j')\n",
    "\n",
    "jf: filter = filter(filter_names, names)\n",
    "\n",
    "print(jf)\n",
    "\n",
    "print(list(jf))"
   ]
  },
  {
   "cell_type": "code",
   "execution_count": 3,
   "id": "e9cc9342",
   "metadata": {},
   "outputs": [
    {
     "name": "stdout",
     "output_type": "stream",
     "text": [
      "0.0 1.0 2.5\n"
     ]
    }
   ],
   "source": [
    "# 17. float()\n",
    "a: float = float() # empty returns 0.0\n",
    "b: float = float('1') # integer returns 1.0\n",
    "c: float = float(2.5) # float returns 2.5\n",
    "\n",
    "print(a, b, c)\n"
   ]
  },
  {
   "cell_type": "code",
   "execution_count": 4,
   "id": "619be779",
   "metadata": {},
   "outputs": [
    {
     "name": "stdout",
     "output_type": "stream",
     "text": [
      "frozenset({1, 2, 3, 4, 5})\n",
      "-3779889356588604112\n"
     ]
    }
   ],
   "source": [
    "# 18. frozenset()\n",
    "fs: frozenset[int] = frozenset({1, 2, 3, 4, 5})\n",
    "print(fs)\n",
    "print(hash(fs)) # a set is mutable, so it cannot be hashed."
   ]
  },
  {
   "cell_type": "code",
   "execution_count": 5,
   "id": "7a9906d2",
   "metadata": {},
   "outputs": [
    {
     "name": "stdout",
     "output_type": "stream",
     "text": [
      "{'__name__': '__main__', '__doc__': 'Automatically created module for IPython interactive environment', '__package__': None, '__loader__': None, '__spec__': None, '__builtin__': <module 'builtins' (built-in)>, '__builtins__': <module 'builtins' (built-in)>, '_ih': ['', \"# 16. filter\\nnames: list[str] = ['james', 'JB', 'john', 'jack', 'jane', 'Finn']\\n\\ndef filter_names(name: str) -> bool:\\n    return name.startswith('j')\\n\\njf: filter = filter(filter_names, names)\\n\\nprint(jf)\\n\\nprint(list(jf))\", \"# 17. float()\\na: float = float() # empty returns 0.0\\nb: float = float('1') # integer returns 1.0\\nc: float = float(2.5) # float returns 2.5\", \"# 17. float()\\na: float = float() # empty returns 0.0\\nb: float = float('1') # integer returns 1.0\\nc: float = float(2.5) # float returns 2.5\\n\\nprint(a, b, c)\", '# 18. frozenset()\\nfs: frozenset[int] = frozenset({1, 2, 3, 4, 5})\\nprint(fs)\\nprint(hash(fs)) # a set is mutable, so it cannot be hashed.', '# 19. globals()\\nprint(globals())'], '_oh': {}, '_dh': [WindowsPath('c:/Users/86135/Desktop/Py')], 'In': ['', \"# 16. filter\\nnames: list[str] = ['james', 'JB', 'john', 'jack', 'jane', 'Finn']\\n\\ndef filter_names(name: str) -> bool:\\n    return name.startswith('j')\\n\\njf: filter = filter(filter_names, names)\\n\\nprint(jf)\\n\\nprint(list(jf))\", \"# 17. float()\\na: float = float() # empty returns 0.0\\nb: float = float('1') # integer returns 1.0\\nc: float = float(2.5) # float returns 2.5\", \"# 17. float()\\na: float = float() # empty returns 0.0\\nb: float = float('1') # integer returns 1.0\\nc: float = float(2.5) # float returns 2.5\\n\\nprint(a, b, c)\", '# 18. frozenset()\\nfs: frozenset[int] = frozenset({1, 2, 3, 4, 5})\\nprint(fs)\\nprint(hash(fs)) # a set is mutable, so it cannot be hashed.', '# 19. globals()\\nprint(globals())'], 'Out': {}, 'get_ipython': <bound method InteractiveShell.get_ipython of <ipykernel.zmqshell.ZMQInteractiveShell object at 0x0000015C1DE140B0>>, 'exit': <IPython.core.autocall.ZMQExitAutocall object at 0x0000015C1DF433B0>, 'quit': <IPython.core.autocall.ZMQExitAutocall object at 0x0000015C1DF433B0>, 'open': <function open at 0x0000015C1BEC4F40>, '_': '', '__': '', '___': '', '__vsc_ipynb_file__': 'c:\\\\Users\\\\86135\\\\Desktop\\\\Py\\\\built_in.ipynb', '_i': '# 18. frozenset()\\nfs: frozenset[int] = frozenset({1, 2, 3, 4, 5})\\nprint(fs)\\nprint(hash(fs)) # a set is mutable, so it cannot be hashed.', '_ii': \"# 17. float()\\na: float = float() # empty returns 0.0\\nb: float = float('1') # integer returns 1.0\\nc: float = float(2.5) # float returns 2.5\\n\\nprint(a, b, c)\", '_iii': \"# 17. float()\\na: float = float() # empty returns 0.0\\nb: float = float('1') # integer returns 1.0\\nc: float = float(2.5) # float returns 2.5\", '_i1': \"# 16. filter\\nnames: list[str] = ['james', 'JB', 'john', 'jack', 'jane', 'Finn']\\n\\ndef filter_names(name: str) -> bool:\\n    return name.startswith('j')\\n\\njf: filter = filter(filter_names, names)\\n\\nprint(jf)\\n\\nprint(list(jf))\", '__annotations__': {'names': list[str], 'jf': <class 'filter'>, 'a': <class 'float'>, 'b': <class 'float'>, 'c': <class 'float'>, 'fs': frozenset[int]}, 'names': ['james', 'JB', 'john', 'jack', 'jane', 'Finn'], 'filter_names': <function filter_names at 0x0000015C1DF5B100>, 'jf': <filter object at 0x0000015C1DF90640>, '_i2': \"# 17. float()\\na: float = float() # empty returns 0.0\\nb: float = float('1') # integer returns 1.0\\nc: float = float(2.5) # float returns 2.5\", 'a': 0.0, 'b': 1.0, 'c': 2.5, '_i3': \"# 17. float()\\na: float = float() # empty returns 0.0\\nb: float = float('1') # integer returns 1.0\\nc: float = float(2.5) # float returns 2.5\\n\\nprint(a, b, c)\", '_i4': '# 18. frozenset()\\nfs: frozenset[int] = frozenset({1, 2, 3, 4, 5})\\nprint(fs)\\nprint(hash(fs)) # a set is mutable, so it cannot be hashed.', 'fs': frozenset({1, 2, 3, 4, 5}), '_i5': '# 19. globals()\\nprint(globals())'}\n"
     ]
    }
   ],
   "source": [
    "# 19. globals()\n",
    "print(globals())"
   ]
  },
  {
   "cell_type": "code",
   "execution_count": 7,
   "id": "1dcd9365",
   "metadata": {},
   "outputs": [
    {
     "name": "stdout",
     "output_type": "stream",
     "text": [
      "{'c': 'hello', 'x': 10}\n",
      "{'__name__': '__main__', '__doc__': 'Automatically created module for IPython interactive environment', '__package__': None, '__loader__': None, '__spec__': None, '__builtin__': <module 'builtins' (built-in)>, '__builtins__': <module 'builtins' (built-in)>, '_ih': ['', \"# 16. filter\\nnames: list[str] = ['james', 'JB', 'john', 'jack', 'jane', 'Finn']\\n\\ndef filter_names(name: str) -> bool:\\n    return name.startswith('j')\\n\\njf: filter = filter(filter_names, names)\\n\\nprint(jf)\\n\\nprint(list(jf))\", \"# 17. float()\\na: float = float() # empty returns 0.0\\nb: float = float('1') # integer returns 1.0\\nc: float = float(2.5) # float returns 2.5\", \"# 17. float()\\na: float = float() # empty returns 0.0\\nb: float = float('1') # integer returns 1.0\\nc: float = float(2.5) # float returns 2.5\\n\\nprint(a, b, c)\", '# 18. frozenset()\\nfs: frozenset[int] = frozenset({1, 2, 3, 4, 5})\\nprint(fs)\\nprint(hash(fs)) # a set is mutable, so it cannot be hashed.', '# 19. globals()\\nprint(globals())', '# 20. locals()\\n\\n\\ndef my_func():\\n    c: str = \"hello\"\\n    x: int = 10\\n    print(locals())\\n\\n\\nmy_func()', '# 20. locals()\\n\\n\\ndef my_func():\\n    c: str = \"hello\"\\n    x: int = 10\\n    print(locals())\\n\\n\\nmy_func()\\nprint(locals())'], '_oh': {}, '_dh': [WindowsPath('c:/Users/86135/Desktop/Py')], 'In': ['', \"# 16. filter\\nnames: list[str] = ['james', 'JB', 'john', 'jack', 'jane', 'Finn']\\n\\ndef filter_names(name: str) -> bool:\\n    return name.startswith('j')\\n\\njf: filter = filter(filter_names, names)\\n\\nprint(jf)\\n\\nprint(list(jf))\", \"# 17. float()\\na: float = float() # empty returns 0.0\\nb: float = float('1') # integer returns 1.0\\nc: float = float(2.5) # float returns 2.5\", \"# 17. float()\\na: float = float() # empty returns 0.0\\nb: float = float('1') # integer returns 1.0\\nc: float = float(2.5) # float returns 2.5\\n\\nprint(a, b, c)\", '# 18. frozenset()\\nfs: frozenset[int] = frozenset({1, 2, 3, 4, 5})\\nprint(fs)\\nprint(hash(fs)) # a set is mutable, so it cannot be hashed.', '# 19. globals()\\nprint(globals())', '# 20. locals()\\n\\n\\ndef my_func():\\n    c: str = \"hello\"\\n    x: int = 10\\n    print(locals())\\n\\n\\nmy_func()', '# 20. locals()\\n\\n\\ndef my_func():\\n    c: str = \"hello\"\\n    x: int = 10\\n    print(locals())\\n\\n\\nmy_func()\\nprint(locals())'], 'Out': {}, 'get_ipython': <bound method InteractiveShell.get_ipython of <ipykernel.zmqshell.ZMQInteractiveShell object at 0x0000015C1DE140B0>>, 'exit': <IPython.core.autocall.ZMQExitAutocall object at 0x0000015C1DF433B0>, 'quit': <IPython.core.autocall.ZMQExitAutocall object at 0x0000015C1DF433B0>, 'open': <function open at 0x0000015C1BEC4F40>, '_': '', '__': '', '___': '', '__vsc_ipynb_file__': 'c:\\\\Users\\\\86135\\\\Desktop\\\\Py\\\\built_in.ipynb', '_i': '# 20. locals()\\n\\n\\ndef my_func():\\n    c: str = \"hello\"\\n    x: int = 10\\n    print(locals())\\n\\n\\nmy_func()', '_ii': '# 19. globals()\\nprint(globals())', '_iii': '# 18. frozenset()\\nfs: frozenset[int] = frozenset({1, 2, 3, 4, 5})\\nprint(fs)\\nprint(hash(fs)) # a set is mutable, so it cannot be hashed.', '_i1': \"# 16. filter\\nnames: list[str] = ['james', 'JB', 'john', 'jack', 'jane', 'Finn']\\n\\ndef filter_names(name: str) -> bool:\\n    return name.startswith('j')\\n\\njf: filter = filter(filter_names, names)\\n\\nprint(jf)\\n\\nprint(list(jf))\", '__annotations__': {'names': list[str], 'jf': <class 'filter'>, 'a': <class 'float'>, 'b': <class 'float'>, 'c': <class 'float'>, 'fs': frozenset[int]}, 'names': ['james', 'JB', 'john', 'jack', 'jane', 'Finn'], 'filter_names': <function filter_names at 0x0000015C1DF5B100>, 'jf': <filter object at 0x0000015C1DF90640>, '_i2': \"# 17. float()\\na: float = float() # empty returns 0.0\\nb: float = float('1') # integer returns 1.0\\nc: float = float(2.5) # float returns 2.5\", 'a': 0.0, 'b': 1.0, 'c': 2.5, '_i3': \"# 17. float()\\na: float = float() # empty returns 0.0\\nb: float = float('1') # integer returns 1.0\\nc: float = float(2.5) # float returns 2.5\\n\\nprint(a, b, c)\", '_i4': '# 18. frozenset()\\nfs: frozenset[int] = frozenset({1, 2, 3, 4, 5})\\nprint(fs)\\nprint(hash(fs)) # a set is mutable, so it cannot be hashed.', 'fs': frozenset({1, 2, 3, 4, 5}), '_i5': '# 19. globals()\\nprint(globals())', '_i6': '# 20. locals()\\n\\n\\ndef my_func():\\n    c: str = \"hello\"\\n    x: int = 10\\n    print(locals())\\n\\n\\nmy_func()', 'my_func': <function my_func at 0x0000015C1E120540>, '_i7': '# 20. locals()\\n\\n\\ndef my_func():\\n    c: str = \"hello\"\\n    x: int = 10\\n    print(locals())\\n\\n\\nmy_func()\\nprint(locals())'}\n"
     ]
    }
   ],
   "source": [
    "# 20. locals()\n",
    "\n",
    "\n",
    "def my_func():\n",
    "    c: str = \"hello\"\n",
    "    x: int = 10\n",
    "    print(locals())\n",
    "\n",
    "\n",
    "my_func()\n",
    "print(locals())"
   ]
  },
  {
   "cell_type": "code",
   "execution_count": 9,
   "id": "366d080a",
   "metadata": {},
   "outputs": [
    {
     "name": "stdout",
     "output_type": "stream",
     "text": [
      "123\n",
      "-7636464098495779137\n",
      "529344067295497451\n"
     ]
    }
   ],
   "source": [
    "# 21. hash()\n",
    "print(hash(123))\n",
    "print(hash('hello'))\n",
    "print(hash(tuple([1, 2, 3])))"
   ]
  },
  {
   "cell_type": "code",
   "execution_count": 14,
   "id": "2c731ac7",
   "metadata": {},
   "outputs": [
    {
     "name": "stdout",
     "output_type": "stream",
     "text": [
      "Help on function my_func in module __main__:\n",
      "\n",
      "my_func(x, y)\n",
      "    This is my function\n",
      "\n"
     ]
    }
   ],
   "source": [
    "# 22. help()\n",
    "# help(print)\n",
    "# help()\n",
    "\n",
    "def my_func(x, y):\n",
    "    \"\"\"This is my function\"\"\"\n",
    "    return x + y\n",
    "\n",
    "help(my_func)\n"
   ]
  },
  {
   "cell_type": "code",
   "execution_count": null,
   "id": "2b80796b",
   "metadata": {},
   "outputs": [
    {
     "name": "stdout",
     "output_type": "stream",
     "text": [
      "140734560025304\n"
     ]
    }
   ],
   "source": [
    "# 23. id()\n",
    "ii = 10\n",
    "print(id(ii)) # every object in Python has a unique id()!"
   ]
  },
  {
   "cell_type": "code",
   "execution_count": 18,
   "id": "1386040c",
   "metadata": {},
   "outputs": [
    {
     "name": "stdout",
     "output_type": "stream",
     "text": [
      "10 10 10 1 0\n"
     ]
    }
   ],
   "source": [
    "# 24. int()\n",
    "e: int = 10\n",
    "e1: int = int('10')\n",
    "e2: int = int(10.5)\n",
    "e3: int = int(True)\n",
    "e4: int = int()\n",
    "# e5: int = int('abc')\n",
    "print(e, e1, e2, e3, e4)"
   ]
  },
  {
   "cell_type": "code",
   "execution_count": null,
   "id": "4a8c194f",
   "metadata": {},
   "outputs": [
    {
     "name": "stdout",
     "output_type": "stream",
     "text": [
      "Input is a sequence\n"
     ]
    }
   ],
   "source": [
    "# 25. isinstance()\n",
    "\n",
    "from typing import Any, Iterator\n",
    "\n",
    "user_input: Any = (1, 2, 3)\n",
    "\n",
    "if isinstance(user_input, Iterator):\n",
    "    print(\"Input is an iterator\")\n",
    "elif isinstance(user_input, tuple | list | set):\n",
    "    print(\"Input is a sequence\")\n",
    "else:\n",
    "    print(\"Input is neither an iterator nor an integer\")\n",
    "\n"
   ]
  },
  {
   "cell_type": "code",
   "execution_count": 23,
   "id": "cbf9b2e9",
   "metadata": {},
   "outputs": [
    {
     "name": "stdout",
     "output_type": "stream",
     "text": [
      "True\n",
      "False\n",
      "True\n",
      "True\n"
     ]
    }
   ],
   "source": [
    "# 26. issubclass()\n",
    "class A:\n",
    "    pass\n",
    "\n",
    "class B(A):\n",
    "    pass\n",
    "\n",
    "print(issubclass(B, A)) # True\n",
    "print(issubclass(A, B)) # False\n",
    "print(issubclass(int, object)) # True\n",
    "print(issubclass(bool, int)) # True"
   ]
  },
  {
   "cell_type": "code",
   "execution_count": 25,
   "id": "b4f949b5",
   "metadata": {},
   "outputs": [
    {
     "name": "stdout",
     "output_type": "stream",
     "text": [
      "1\n",
      "2\n",
      "3\n",
      "[4, 5]\n",
      "[]\n"
     ]
    }
   ],
   "source": [
    "# 27. iter()\n",
    "q: list[int] = [1, 2, 3, 4, 5]\n",
    "my_iter = iter(q)\n",
    "print(next(my_iter))  # 1\n",
    "print(next(my_iter))  # 2\n",
    "print(next(my_iter))  # 3\n",
    "\n",
    "print(list(my_iter))  # [4, 5]\n",
    "print(list(my_iter))  # []"
   ]
  },
  {
   "cell_type": "code",
   "execution_count": null,
   "id": "d2b6f3bd",
   "metadata": {},
   "outputs": [],
   "source": [
    "# 28. len()\n"
   ]
  },
  {
   "cell_type": "code",
   "execution_count": null,
   "id": "0a74b1cc",
   "metadata": {},
   "outputs": [],
   "source": [
    "# 29. list()\n",
    "l: list = [1, 2, 3, 4, 5]\n",
    "l2: list = list(range(10))\n",
    "l3: list = list(\"hello\")"
   ]
  },
  {
   "cell_type": "code",
   "execution_count": 26,
   "id": "0a2f44d2",
   "metadata": {},
   "outputs": [
    {
     "name": "stdout",
     "output_type": "stream",
     "text": [
      "[1, 4, 9, 16, 25]\n"
     ]
    }
   ],
   "source": [
    "# 30. map\n",
    "\n",
    "def square(x):\n",
    "    return x**2\n",
    "\n",
    "nums = [1, 2, 3, 4, 5]\n",
    "\n",
    "result = list(map(square, nums))\n",
    "\n",
    "print(result)\n"
   ]
  },
  {
   "cell_type": "code",
   "execution_count": 27,
   "id": "7e16ffdf",
   "metadata": {},
   "outputs": [
    {
     "name": "stdout",
     "output_type": "stream",
     "text": [
      "5\n",
      "Alice\n"
     ]
    }
   ],
   "source": [
    "# 31. max()\n",
    "\n",
    "num: list[int] = [1, 2, 3, 4, 5]\n",
    "\n",
    "print(max(num))  # Output: 5\n",
    "\n",
    "names: list[str] = [\"John\", \"Jane\", \"Bob\", \"Alice\"]\n",
    "\n",
    "print(max(names, key=len))  # Output: \"Jane\"\n",
    "\n"
   ]
  },
  {
   "cell_type": "code",
   "execution_count": null,
   "id": "a9728fd2",
   "metadata": {},
   "outputs": [],
   "source": [
    "# 32. min()"
   ]
  },
  {
   "cell_type": "code",
   "execution_count": null,
   "id": "c698f8a5",
   "metadata": {},
   "outputs": [],
   "source": [
    "# 33. next()\n",
    "\n",
    "my: Iterator[int] = iter([1, 2, 3, 4, 5])\n",
    "\n",
    "print(next(my))  # 1\n"
   ]
  },
  {
   "cell_type": "code",
   "execution_count": null,
   "id": "5f69430f",
   "metadata": {},
   "outputs": [],
   "source": [
    "# 34. open()\n",
    "\n",
    "# file: str = \"test.txt\"\n",
    "with open(file, \"w\") as f:\n",
    "    print(f.read())\n"
   ]
  },
  {
   "cell_type": "code",
   "execution_count": null,
   "id": "16d16db3",
   "metadata": {},
   "outputs": [],
   "source": [
    "# 35. ord()\n",
    "print(ord('a')) # 97\n",
    "print(ord('A')) # 65"
   ]
  },
  {
   "cell_type": "code",
   "execution_count": null,
   "id": "00dd93b8",
   "metadata": {},
   "outputs": [
    {
     "name": "stdout",
     "output_type": "stream",
     "text": [
      "8\n",
      "3\n"
     ]
    }
   ],
   "source": [
    "# 36. pow()\n",
    "print(pow(2, 3))  # 8\n",
    "print(pow(2, 3, 5))  # 3 modulus"
   ]
  },
  {
   "cell_type": "code",
   "execution_count": 30,
   "id": "13b22543",
   "metadata": {},
   "outputs": [
    {
     "name": "stdout",
     "output_type": "stream",
     "text": [
      "Hello, World!\n",
      "1-2-3-4-5\n",
      "apple-banana-cherry*"
     ]
    }
   ],
   "source": [
    "# 37. print()\n",
    "\n",
    "print(\"Hello, World!\")\n",
    "print(1, 2, 3, 4, 5, sep='-')\n",
    "\n",
    "p: list[str] = ['apple', 'banana', 'cherry']\n",
    "print(*p, sep='-', end='*')\n",
    "\n"
   ]
  },
  {
   "cell_type": "code",
   "execution_count": 32,
   "id": "dacaf7dd",
   "metadata": {},
   "outputs": [
    {
     "name": "stdout",
     "output_type": "stream",
     "text": [
      "range(0, 10)\n",
      "[0, 1, 2, 3, 4, 5, 6, 7, 8, 9]\n",
      "range(1, 10, 2)\n",
      "[1, 3, 5, 7, 9]\n",
      "range(10, 0, -1)\n",
      "[10, 9, 8, 7, 6, 5, 4, 3, 2, 1]\n"
     ]
    }
   ],
   "source": [
    "# 38. range()\n",
    "n: range = range(10)\n",
    "print(n)\n",
    "print(list(n))\n",
    "\n",
    "\n",
    "n2: range = range(1, 10, 2)\n",
    "print(n2)\n",
    "print(list(n2))\n",
    "\n",
    "n3: range = range(10, 0, -1)\n",
    "print(n3)\n",
    "print(list(n3))\n"
   ]
  },
  {
   "cell_type": "code",
   "execution_count": 33,
   "id": "5937b5da",
   "metadata": {},
   "outputs": [
    {
     "name": "stdout",
     "output_type": "stream",
     "text": [
      "123\n",
      "'hello'\n"
     ]
    }
   ],
   "source": [
    "# 39. repr()\n",
    "print(repr(123)) # output: '123'\n",
    "print(repr('hello')) # output: \"'hello'\""
   ]
  },
  {
   "cell_type": "code",
   "execution_count": null,
   "id": "80d5a5e6",
   "metadata": {},
   "outputs": [
    {
     "name": "stdout",
     "output_type": "stream",
     "text": [
      "<reversed object at 0x0000015C1E0A7610>\n",
      "['d', 'l', 'r', 'o', 'w', ' ', 'o', 'l', 'l', 'e', 'h']\n"
     ]
    }
   ],
   "source": [
    "# 40. reversed()\n",
    "\n",
    "seq: str = \"hello world\"\n",
    "print(reversed(seq))\n",
    "\n",
    "print(list(reversed(seq)))"
   ]
  },
  {
   "cell_type": "code",
   "execution_count": 38,
   "id": "2a49f344",
   "metadata": {},
   "outputs": [
    {
     "name": "stdout",
     "output_type": "stream",
     "text": [
      "12323.14159\n",
      "12323.14\n",
      "12323.0\n",
      "12320.0\n"
     ]
    }
   ],
   "source": [
    "# 41. round()\n",
    "\n",
    "nn: float = 12323.14159265359\n",
    "\n",
    "print(round(nn, 5)) \n",
    "print(round(nn, 2)) \n",
    "print(round(nn, 0)) \n",
    "print(round(nn, -1)) "
   ]
  },
  {
   "cell_type": "code",
   "execution_count": null,
   "id": "735ae66c",
   "metadata": {},
   "outputs": [
    {
     "name": "stdout",
     "output_type": "stream",
     "text": [
      "{1, 2, 3, 4, 5}\n",
      "set()\n"
     ]
    }
   ],
   "source": [
    "# 42. set()\n",
    "\n",
    "e: set = {1, 2, 3, 4, 5}\n",
    "print(e)\n",
    "\n",
    "e2: set = set()\n",
    "print(e2)\n"
   ]
  },
  {
   "cell_type": "code",
   "execution_count": null,
   "id": "3dc5b537",
   "metadata": {},
   "outputs": [
    {
     "name": "stdout",
     "output_type": "stream",
     "text": [
      "[3, 5, 7]\n"
     ]
    }
   ],
   "source": [
    "# 43. slice()\n",
    "\n",
    "num: list[int] = [1, 2, 3, 4, 5, 6, 7, 8, 9, 10]\n",
    "\n",
    "s: slice = slice(2, 7, 2)\n",
    "\n",
    "print(num[s])  # [3, 5, 7]\n"
   ]
  },
  {
   "cell_type": "code",
   "execution_count": null,
   "id": "373bedad",
   "metadata": {},
   "outputs": [
    {
     "name": "stdout",
     "output_type": "stream",
     "text": [
      "[9, 6, 5, 5, 5, 4, 3, 3, 2, 1, 1]\n"
     ]
    }
   ],
   "source": [
    "# 44. sorted()\n",
    "\n",
    "n: list = [3, 1, 4, 1, 5, 9, 2, 6, 5, 3, 5]\n",
    "\n",
    "print(sorted(n, reverse=True))"
   ]
  },
  {
   "cell_type": "code",
   "execution_count": 43,
   "id": "49dd40e3",
   "metadata": {},
   "outputs": [
    {
     "name": "stdout",
     "output_type": "stream",
     "text": [
      "None\n"
     ]
    }
   ],
   "source": [
    "# 45. str()\n",
    "\n",
    "print(str(None))\n"
   ]
  },
  {
   "cell_type": "code",
   "execution_count": 44,
   "id": "a8da3187",
   "metadata": {},
   "outputs": [
    {
     "name": "stdout",
     "output_type": "stream",
     "text": [
      "25\n"
     ]
    }
   ],
   "source": [
    "# 46. sum()\n",
    "l: list = [1, 2, 3, 4, 5]\n",
    "print(sum(l, start=10))  # Output: 15\n"
   ]
  },
  {
   "cell_type": "code",
   "execution_count": 45,
   "id": "b4ceda62",
   "metadata": {},
   "outputs": [
    {
     "name": "stdout",
     "output_type": "stream",
     "text": [
      "(1, 2, 3)\n"
     ]
    }
   ],
   "source": [
    "# 47. tuple\n",
    "\n",
    "co: list[int] = [1, 2, 3]\n",
    "t: tuple[int, int, int] = tuple(co)\n",
    "print(t)\n",
    "\n"
   ]
  },
  {
   "cell_type": "code",
   "execution_count": null,
   "id": "0bdf5ab2",
   "metadata": {},
   "outputs": [],
   "source": [
    "# 48. type()"
   ]
  },
  {
   "cell_type": "code",
   "execution_count": null,
   "id": "6299b005",
   "metadata": {},
   "outputs": [
    {
     "name": "stdout",
     "output_type": "stream",
     "text": [
      "[('apple', 1), ('banana', 2), ('cherry', 3)]\n"
     ]
    }
   ],
   "source": [
    "# 49. zip()\n",
    "# shortest len!\n",
    "\n",
    "a: list[str] = ['apple', 'banana', 'cherry']\n",
    "b: list[int] = [1, 2, 3]\n",
    "\n",
    "zipzip: Iterator[tuple[str, int]] = zip(a, b)\n",
    "print(list(zipzip))  # [('apple', 1), ('banana', 2), ('cherry', 3)]\n"
   ]
  }
 ],
 "metadata": {
  "kernelspec": {
   "display_name": "ds100",
   "language": "python",
   "name": "python3"
  },
  "language_info": {
   "codemirror_mode": {
    "name": "ipython",
    "version": 3
   },
   "file_extension": ".py",
   "mimetype": "text/x-python",
   "name": "python",
   "nbconvert_exporter": "python",
   "pygments_lexer": "ipython3",
   "version": "3.12.4"
  }
 },
 "nbformat": 4,
 "nbformat_minor": 5
}
