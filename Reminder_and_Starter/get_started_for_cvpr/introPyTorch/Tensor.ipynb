{
 "cells": [
  {
   "cell_type": "markdown",
   "id": "639103b1bc2965c",
   "metadata": {},
   "source": [
    "## Tensor基础"
   ]
  },
  {
   "cell_type": "markdown",
   "id": "489d5a7f8198704f",
   "metadata": {},
   "source": [
    "### 2.1 Tensor"
   ]
  },
  {
   "cell_type": "code",
   "execution_count": 11,
   "id": "initial_id",
   "metadata": {
    "ExecuteTime": {
     "end_time": "2024-09-08T11:22:08.911606Z",
     "start_time": "2024-09-08T11:22:08.907526Z"
    },
    "collapsed": true
   },
   "outputs": [],
   "source": [
    "import torch"
   ]
  },
  {
   "cell_type": "markdown",
   "id": "91abdcaa04dc151b",
   "metadata": {},
   "source": [
    "#### 基本构造方法"
   ]
  },
  {
   "cell_type": "code",
   "execution_count": 2,
   "id": "45179355d27da058",
   "metadata": {
    "ExecuteTime": {
     "end_time": "2024-09-08T11:22:08.876814800Z",
     "start_time": "2024-09-08T08:38:24.664439Z"
    }
   },
   "outputs": [
    {
     "data": {
      "text/plain": [
       "tensor([[-8.1173e+31,  2.0361e-42,  0.0000e+00],\n",
       "        [ 0.0000e+00,  0.0000e+00,  0.0000e+00]])"
      ]
     },
     "execution_count": 2,
     "metadata": {},
     "output_type": "execute_result"
    }
   ],
   "source": [
    "x = torch.Tensor(2,3)\n",
    "x"
   ]
  },
  {
   "cell_type": "code",
   "execution_count": 3,
   "id": "693fc476aaae44de",
   "metadata": {
    "ExecuteTime": {
     "end_time": "2024-09-08T11:22:08.895643900Z",
     "start_time": "2024-09-08T08:38:26.281362Z"
    }
   },
   "outputs": [
    {
     "data": {
      "text/plain": [
       "tensor([[0, 0, 0],\n",
       "        [1, 0, 0],\n",
       "        [0, 1, 0],\n",
       "        [0, 0, 1]])"
      ]
     },
     "execution_count": 3,
     "metadata": {},
     "output_type": "execute_result"
    }
   ],
   "source": [
    "list = [[0, 0, 0], [1, 0, 0], [0, 1, 0], [0, 0, 1]]\n",
    "fromList = torch.tensor(list)\n",
    "fromList"
   ]
  },
  {
   "cell_type": "markdown",
   "id": "5471af719b913756",
   "metadata": {},
   "source": [
    "#### 快速创建方法\n",
    "- 全0 or 全1\n",
    "- 对角1\n",
    "- rand: 随机[0, 1)\n",
    "- arange: 区间 + optional 步长"
   ]
  },
  {
   "cell_type": "code",
   "execution_count": 4,
   "id": "6bbcc80fa306fcf1",
   "metadata": {
    "ExecuteTime": {
     "end_time": "2024-09-08T11:22:08.897640500Z",
     "start_time": "2024-09-08T08:38:26.310236Z"
    }
   },
   "outputs": [
    {
     "name": "stdout",
     "output_type": "stream",
     "text": [
      "tensor([[[0., 0.],\n",
      "         [0., 0.],\n",
      "         [0., 0.]],\n",
      "\n",
      "        [[0., 0.],\n",
      "         [0., 0.],\n",
      "         [0., 0.]]])\n",
      "tensor([[1., 1., 1.],\n",
      "        [1., 1., 1.]])\n",
      "tensor([[1., 0., 0.],\n",
      "        [0., 1., 0.]])\n",
      "tensor([1.0000, 1.5000, 2.0000, 2.5000, 3.0000, 3.5000])\n"
     ]
    }
   ],
   "source": [
    "print(torch.zeros(2,3,2))\n",
    "print(torch.ones(2,3))\n",
    "print(torch.eye(2,3))\n",
    "print(torch.arange(1, 4, 0.5))"
   ]
  },
  {
   "cell_type": "markdown",
   "id": "f566369619475e3",
   "metadata": {},
   "source": [
    "#### 常见属性与操作"
   ]
  },
  {
   "cell_type": "code",
   "execution_count": 5,
   "id": "51d48ea81ba9fdeb",
   "metadata": {
    "ExecuteTime": {
     "end_time": "2024-09-08T11:22:08.897640500Z",
     "start_time": "2024-09-08T08:38:26.552203Z"
    }
   },
   "outputs": [
    {
     "name": "stdout",
     "output_type": "stream",
     "text": [
      "torch.FloatTensor\n",
      "torch.float32\n",
      "fromList shape is torch.Size([4, 3])\n",
      "tensor(0)\n"
     ]
    }
   ],
   "source": [
    "print(x.type())\n",
    "print(x.dtype)\n",
    "print('fromList shape is ' + str(fromList.shape))\n",
    "print(fromList[0][0]) # a tensor\n"
   ]
  },
  {
   "cell_type": "markdown",
   "id": "3b819d75f5b83832",
   "metadata": {},
   "source": [
    "#### 常见数学操作\n",
    "**static and non-static method can both apply in some case** :grinning:\n",
    "\n",
    "如果操作带*下划线*, 返回值将会覆盖对象 :thinking:\n",
    "\n",
    "- `add()`, `mul()`, `div()`: 同操作一个标量, 或者Tensor之间逐个元素操作\n",
    "- `fmod()`, `remainder()`: 取余数\n",
    "- `ceil()`, `floor()`, `log()`, `exp()`, `sigmoid()`, `sqrt()`, `abs()`, `min()`, `max()`: 懂得都懂\n",
    "- `clamp()`: 至少传入一个标量, 取上下限\n",
    "- `round()`: 取最近的整数\n",
    "- `frac()`: 取小数部分\n",
    "- `neg()`, `reciprocal()`: 取负, 取倒数\n",
    "- `pow()`: 取幂, 必要时LLM\n",
    "- `sign()`: +-1显示正负\n",
    "- `dist()`：返回两个Tensor之间的距离(范数)\n",
    "- `norm()`: 计算Tensor范数\n",
    "- `sum()`, `prod()`: 返回所有元素之和/积\n",
    "- `torch.mv()`, `torch.mm()`: matrix/vector乘法"
   ]
  },
  {
   "cell_type": "code",
   "execution_count": 10,
   "id": "d81acba4ed2698c7",
   "metadata": {
    "ExecuteTime": {
     "end_time": "2024-09-08T11:22:08.897640500Z",
     "start_time": "2024-09-08T08:45:49.837903Z"
    }
   },
   "outputs": [
    {
     "name": "stdout",
     "output_type": "stream",
     "text": [
      "tensor([-1.,  1., -1.,  1.])\n",
      "tensor(0.)\n"
     ]
    }
   ],
   "source": [
    "l = [-1, +1, -0.255, +6.12]\n",
    "l1 = torch.tensor(l)\n",
    "print(l1.sign())\n",
    "print(l1.dist(l1))"
   ]
  },
  {
   "cell_type": "markdown",
   "id": "a242e02b60309277",
   "metadata": {},
   "source": [
    "#### 常见线性代数数学操作\n",
    "kind of like non-static in torch\n",
    "- `mv()`, `mm()`: matrix/vector乘法\n",
    "- `dot()`: 点乘\n",
    "- `addmm()`, `addmv()`, `addr()`: 两个Tensor操作后与其中一个相加\n",
    "- `bmm()`, `addbmm()`, `baddbmm()`: 不常见, 必要时LLM\n",
    "- `eig()`: 求特征值和特征向量\n",
    "- `ger()`: 求两个向量的张量积\n",
    "- `inverse()`: 求逆\n",
    "- `t()`: 转置, 仅限二维矩阵"
   ]
  },
  {
   "cell_type": "markdown",
   "id": "dbf56af8b325cfb4",
   "metadata": {},
   "source": [
    "#### 连接和切片\n",
    "torch non-static\n",
    "- `cat()`: 第一个参数将所有需要连接的Tensor组成一个元组传入, 第二个参数是连接维度\n",
    "- `chunk()`: 第一被切的对象, 第二切分块数, 第三切分维度\n",
    "- `index_select()`: 类比numpy dataframe的切片\n",
    "- `unbind()`: 沿着给定维度进行逐个单位拆分, 返回序列\n",
    "- `split()`: 切成相等形状的块\n",
    "- `nonzero()`: 返回非零索引的Tensor\n",
    "- `squeeze()`: 除掉维数1\n",
    "- `unsqueeze()`: 指定维度添加1\n",
    "- `stack()`: 和`cat()`不同在于会添加维度\n",
    "- `transpose()`: 对Tensor指定的两个维度进行转置"
   ]
  },
  {
   "cell_type": "code",
   "execution_count": 14,
   "id": "37b7b6445c3c8384",
   "metadata": {
    "ExecuteTime": {
     "end_time": "2024-09-08T11:24:41.511389Z",
     "start_time": "2024-09-08T11:24:41.503427Z"
    }
   },
   "outputs": [
    {
     "name": "stdout",
     "output_type": "stream",
     "text": [
      "tensor([[-1.3588, -1.2730,  1.0648,  0.7868],\n",
      "        [-1.4120, -0.7000, -0.5600,  0.8299],\n",
      "        [ 0.0598,  0.4924, -0.7204, -1.2977]])\n"
     ]
    },
    {
     "data": {
      "text/plain": [
       "tensor([[-1.3588, -1.2730,  1.0648,  0.7868],\n",
       "        [ 0.0598,  0.4924, -0.7204, -1.2977]])"
      ]
     },
     "execution_count": 14,
     "metadata": {},
     "output_type": "execute_result"
    }
   ],
   "source": [
    "x = torch.randn(3, 4)\n",
    "print(x)\n",
    "indices = torch.tensor([0, 2])\n",
    "selected_rows = torch.index_select(x, 0, indices)\n",
    "selected_rows"
   ]
  },
  {
   "cell_type": "code",
   "execution_count": 17,
   "id": "17b6a9714bea1c46",
   "metadata": {
    "ExecuteTime": {
     "end_time": "2024-09-08T11:31:22.726678Z",
     "start_time": "2024-09-08T11:31:22.720862Z"
    }
   },
   "outputs": [
    {
     "name": "stdout",
     "output_type": "stream",
     "text": [
      "tensor([[1, 0],\n",
      "        [2, 0],\n",
      "        [2, 1]])\n"
     ]
    }
   ],
   "source": [
    "c = torch.tensor([[1, 2], [3, 0], [4, 5]])\n",
    "nonzero_and_greater_than_2 = torch.nonzero(c > 2)\n",
    "print(nonzero_and_greater_than_2)  # 输出: tensor([[1, 0],\n",
    "                                  #              [2, 0],\n",
    "                                  #              [2, 1]])"
   ]
  },
  {
   "cell_type": "code",
   "execution_count": 18,
   "id": "9a116eef7e1d4577",
   "metadata": {
    "ExecuteTime": {
     "end_time": "2024-09-08T11:33:41.474888Z",
     "start_time": "2024-09-08T11:33:41.465379Z"
    }
   },
   "outputs": [
    {
     "name": "stdout",
     "output_type": "stream",
     "text": [
      "tensor([1, 2, 3])\n",
      "tensor([[1],\n",
      "        [2],\n",
      "        [3]])\n"
     ]
    }
   ],
   "source": [
    "x = torch.tensor([[[1], [2], [3]]])  # 形状为 (1, 3, 1)\n",
    "y = torch.squeeze(x)  # 移除所有大小为 1 的维度，形状变为 (3,)\n",
    "print(y)\n",
    "z = torch.squeeze(x, dim=0) # 指定移除第一个维度，形状变为 (3, 1)\n",
    "print(z)"
   ]
  },
  {
   "cell_type": "code",
   "execution_count": 19,
   "id": "fcf51d43750735da",
   "metadata": {
    "ExecuteTime": {
     "end_time": "2024-09-08T11:36:52.768345Z",
     "start_time": "2024-09-08T11:36:52.759218Z"
    }
   },
   "outputs": [
    {
     "name": "stdout",
     "output_type": "stream",
     "text": [
      "tensor([[[ 1,  2,  3],\n",
      "         [ 4,  5,  6]],\n",
      "\n",
      "        [[ 7,  8,  9],\n",
      "         [10, 11, 12]]])\n"
     ]
    }
   ],
   "source": [
    "\n",
    "# 假设我们有两个形状为 (2, 3) 的张量\n",
    "x = torch.tensor([[1, 2, 3], [4, 5, 6]])\n",
    "y = torch.tensor([[7, 8, 9], [10, 11, 12]])\n",
    "\n",
    "# 沿着一个新的维度堆叠它们，结果的形状将是 (2, 2, 3)\n",
    "z = torch.stack((x, y), dim=0)\n",
    "print(z)"
   ]
  },
  {
   "cell_type": "markdown",
   "id": "6400099229b14e99",
   "metadata": {},
   "source": [
    "#### 变形\n",
    "- `view()`: 变形, 当传入-1时会自动计算维度\n",
    "- `flatten()`: 展开, 侧重于沿着指定维度展开"
   ]
  },
  {
   "cell_type": "code",
   "execution_count": 21,
   "id": "95b92011ed0bcc98",
   "metadata": {
    "ExecuteTime": {
     "end_time": "2024-09-08T11:39:55.624352Z",
     "start_time": "2024-09-08T11:39:55.617049Z"
    }
   },
   "outputs": [
    {
     "name": "stdout",
     "output_type": "stream",
     "text": [
      "torch.Size([2, 12])\n"
     ]
    }
   ],
   "source": [
    "x = torch.rand(2, 3, 4)\n",
    "y = x.view(2,12)\n",
    "print(y.shape)"
   ]
  },
  {
   "cell_type": "code",
   "execution_count": 22,
   "id": "3bdd95db88b6d8bb",
   "metadata": {
    "ExecuteTime": {
     "end_time": "2024-09-08T11:41:43.273692Z",
     "start_time": "2024-09-08T11:41:43.262012Z"
    }
   },
   "outputs": [
    {
     "name": "stdout",
     "output_type": "stream",
     "text": [
      "tensor([ 0,  1,  2,  3,  4,  5,  6,  7,  8,  9, 10, 11, 12, 13, 14, 15, 16, 17,\n",
      "        18, 19, 20, 21, 22, 23])\n",
      "tensor([[ 0,  1,  2,  3,  4,  5,  6,  7,  8,  9, 10, 11],\n",
      "        [12, 13, 14, 15, 16, 17, 18, 19, 20, 21, 22, 23]])\n"
     ]
    }
   ],
   "source": [
    "# 创建一个形状为 (2, 3, 4) 的张量\n",
    "x = torch.arange(24).reshape(2, 3, 4)\n",
    "\n",
    "# 将整个张量展平成一维张量\n",
    "y = torch.flatten(x)\n",
    "print(y)  # 输出: tensor([ 0,  1,  2,  3,  4,  5,  6,  7,  8,  9, 10, 11, 12, 13, 14, 15, 16, 17, 18, 19, 20, 21, 22, 23])\n",
    "\n",
    "# 展平从第二个维度开始的所有元素\n",
    "z = torch.flatten(x, start_dim=1)\n",
    "print(z)"
   ]
  },
  {
   "cell_type": "markdown",
   "id": "c6eb00c4ec1d17f7",
   "metadata": {},
   "source": [
    "#### CUDA加速"
   ]
  },
  {
   "cell_type": "code",
   "execution_count": 26,
   "id": "754381fd98dbc5ce",
   "metadata": {
    "ExecuteTime": {
     "end_time": "2024-09-08T11:44:17.370186Z",
     "start_time": "2024-09-08T11:44:16.474976Z"
    }
   },
   "outputs": [
    {
     "name": "stdout",
     "output_type": "stream",
     "text": [
      "cuda:0\n",
      "cpu\n"
     ]
    }
   ],
   "source": [
    "x = x.cuda()\n",
    "print(x.device)\n",
    "x = x.to('cpu')\n",
    "print(x.device)"
   ]
  }
 ],
 "metadata": {
  "kernelspec": {
   "display_name": "Python 3",
   "language": "python",
   "name": "python3"
  },
  "language_info": {
   "codemirror_mode": {
    "name": "ipython",
    "version": 2
   },
   "file_extension": ".py",
   "mimetype": "text/x-python",
   "name": "python",
   "nbconvert_exporter": "python",
   "pygments_lexer": "ipython2",
   "version": "2.7.6"
  }
 },
 "nbformat": 4,
 "nbformat_minor": 5
}
