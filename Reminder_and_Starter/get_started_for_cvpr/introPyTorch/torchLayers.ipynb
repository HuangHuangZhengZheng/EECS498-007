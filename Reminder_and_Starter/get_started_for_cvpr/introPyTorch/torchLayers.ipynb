{
 "cells": [
  {
   "cell_type": "markdown",
   "metadata": {},
   "source": [
    "# 备忘录\n",
    "有时候不想查[torch的文档](https://pytorch.org/docs/)，可以用这个备"
   ]
  },
  {
   "cell_type": "markdown",
   "metadata": {},
   "source": [
    "- `nn.Linear(in_features, out_features)`\n",
    "\n",
    "$$\n",
    "y = xW + b\n",
    "$$\n",
    "\n",
    "x: input tensor of shape `(xxxx, in_features)`\n",
    "\n",
    "y: output tensor of shape `(xxxx, out_features)`\n"
   ]
  },
  {
   "cell_type": "code",
   "execution_count": null,
   "metadata": {},
   "outputs": [
    {
     "name": "stdout",
     "output_type": "stream",
     "text": [
      "torch.Size([4, 6, 128, 30])\n"
     ]
    }
   ],
   "source": [
    "import torch\n",
    "import torch.nn as nn\n",
    "\n",
    "# 创建一个线性层，输入特征数为20，输出特征数为30\n",
    "linear_layer = nn.Linear(20, 30)\n",
    "\n",
    "# 创建一个输入张量，\n",
    "input_tensor = torch.randn(4, 6, 128, 20)\n",
    "\n",
    "# 通过线性层进行前向传播\n",
    "output = linear_layer(input_tensor)\n",
    "\n",
    "# 输出张量的形状\n",
    "print(output.size())  "
   ]
  }
 ],
 "metadata": {
  "kernelspec": {
   "display_name": "PRPsu24",
   "language": "python",
   "name": "python3"
  },
  "language_info": {
   "codemirror_mode": {
    "name": "ipython",
    "version": 3
   },
   "file_extension": ".py",
   "mimetype": "text/x-python",
   "name": "python",
   "nbconvert_exporter": "python",
   "pygments_lexer": "ipython3",
   "version": "3.12.4"
  }
 },
 "nbformat": 4,
 "nbformat_minor": 2
}
