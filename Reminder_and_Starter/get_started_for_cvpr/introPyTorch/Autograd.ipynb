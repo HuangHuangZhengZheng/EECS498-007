{
 "cells": [
  {
   "cell_type": "markdown",
   "id": "ce895b07e6dc5c03",
   "metadata": {},
   "source": [
    "## 自动微分基础\n",
    "复杂的计算可以被看作一张图, 分为四个部分: 叶子节点->中间节点->输出节点, 信息流\n",
    "\n",
    "### 三个重要的属性\n",
    "- `requires_grad`: 默认为False, 当是True时, 表示该Tensor需要自动微分\n",
    "- `grad`: 用来储存Tensor的微分值, 当使用`backward()`, 只有叶子节点可以被更新\n",
    "- `grad_fn`: 储存Tensor的微分函数"
   ]
  },
  {
   "cell_type": "code",
   "execution_count": 7,
   "id": "initial_id",
   "metadata": {
    "ExecuteTime": {
     "end_time": "2024-09-08T11:53:09.370675Z",
     "start_time": "2024-09-08T11:53:09.366501Z"
    },
    "collapsed": true
   },
   "outputs": [
    {
     "data": {
      "text/plain": [
       "False"
      ]
     },
     "execution_count": 7,
     "metadata": {},
     "output_type": "execute_result"
    }
   ],
   "source": [
    "import torch\n",
    "\n",
    "x = torch.rand(2,2)\n",
    "x.requires_grad"
   ]
  },
  {
   "cell_type": "code",
   "execution_count": 8,
   "id": "8a4cbc51d7a8050",
   "metadata": {
    "ExecuteTime": {
     "end_time": "2024-09-08T11:54:03.388644Z",
     "start_time": "2024-09-08T11:54:03.376773Z"
    }
   },
   "outputs": [
    {
     "data": {
      "text/plain": [
       "tensor([[0.6173, 0.3426],\n",
       "        [2.7648, 3.5752]], grad_fn=<MulBackward0>)"
      ]
     },
     "execution_count": 8,
     "metadata": {},
     "output_type": "execute_result"
    }
   ],
   "source": [
    "x = torch.rand(2,2)\n",
    "x.requires_grad = True\n",
    "\n",
    "z = 4 * x\n",
    "z"
   ]
  },
  {
   "cell_type": "markdown",
   "id": "f04750893d3b3381",
   "metadata": {},
   "source": [
    "### 非标量输出\n",
    "需要传进去`gradient`参数, 形状与调用`backward()`的Tensor一致"
   ]
  },
  {
   "cell_type": "code",
   "execution_count": 9,
   "id": "6a8a86759b108e23",
   "metadata": {
    "ExecuteTime": {
     "end_time": "2024-09-08T11:56:16.321145Z",
     "start_time": "2024-09-08T11:56:16.308803Z"
    }
   },
   "outputs": [
    {
     "data": {
      "text/plain": [
       "tensor([[5.],\n",
       "        [3.]], grad_fn=<MmBackward0>)"
      ]
     },
     "execution_count": 9,
     "metadata": {},
     "output_type": "execute_result"
    }
   ],
   "source": [
    "z = torch.ones(2,1)\n",
    "x = torch.Tensor([[2, 3], [1, 2]])\n",
    "x.requires_grad = True\n",
    "y = x.mm(z)\n",
    "y"
   ]
  },
  {
   "cell_type": "code",
   "execution_count": 10,
   "id": "ca9e2ce35f17fa16",
   "metadata": {
    "ExecuteTime": {
     "end_time": "2024-09-08T11:58:14.108847Z",
     "start_time": "2024-09-08T11:58:12.284288Z"
    }
   },
   "outputs": [],
   "source": [
    "y.backward(torch.ones_like(y))"
   ]
  },
  {
   "cell_type": "code",
   "execution_count": 11,
   "id": "8a2abf1bfcd55f54",
   "metadata": {
    "ExecuteTime": {
     "end_time": "2024-09-08T11:58:25.632686Z",
     "start_time": "2024-09-08T11:58:25.625788Z"
    }
   },
   "outputs": [
    {
     "data": {
      "text/plain": [
       "tensor([[1., 1.],\n",
       "        [1., 1.]])"
      ]
     },
     "execution_count": 11,
     "metadata": {},
     "output_type": "execute_result"
    }
   ],
   "source": [
    "x.grad"
   ]
  },
  {
   "cell_type": "code",
   "execution_count": null,
   "id": "30433aa3",
   "metadata": {},
   "outputs": [],
   "source": [
    "# manual_backward()参见pytorch_lightning的文档"
   ]
  },
  {
   "cell_type": "markdown",
   "id": "7ad67bd8",
   "metadata": {},
   "source": [
    "### 如何取消自动微分？\n",
    "- 在有些情况下，我们的运算并不需要反向传播进行更新"
   ]
  },
  {
   "cell_type": "code",
   "execution_count": null,
   "id": "b307a70a",
   "metadata": {},
   "outputs": [],
   "source": [
    "x = torch.tensor([1.0, 2.0], requires_grad=False)"
   ]
  },
  {
   "cell_type": "code",
   "execution_count": null,
   "id": "6cd48683",
   "metadata": {},
   "outputs": [],
   "source": [
    "detached_tensor = original_tensor.detach()"
   ]
  },
  {
   "cell_type": "markdown",
   "id": "7cf1b35f",
   "metadata": {},
   "source": [
    "- 修饰器"
   ]
  },
  {
   "cell_type": "code",
   "execution_count": null,
   "id": "746bff84",
   "metadata": {},
   "outputs": [],
   "source": [
    "with torch.no_grad():\n",
    "    output = model(input_data)"
   ]
  },
  {
   "cell_type": "code",
   "execution_count": null,
   "id": "bd18ca7c",
   "metadata": {},
   "outputs": [],
   "source": [
    "# 用于单个函数或方法上，以禁止计算该函数或方法中所有张量操作的梯度\n",
    "@torch.no_grad()\n",
    "def doubler(x):\n",
    "    return x * 2\n",
    "\n",
    "x = torch.tensor([1.0, 2.0, 3.0], requires_grad=True)\n",
    "z = doubler(x)\n",
    "print(z.requires_grad)  # 输出: False"
   ]
  },
  {
   "cell_type": "code",
   "execution_count": null,
   "id": "8c7185dd",
   "metadata": {},
   "outputs": [],
   "source": [
    "torch.set_grad_enabled(False)\n",
    "y = x ** 2"
   ]
  },
  {
   "cell_type": "markdown",
   "id": "3ec2885d",
   "metadata": {},
   "source": [
    "- 冻结参数，多阶段训练常用操作"
   ]
  },
  {
   "cell_type": "code",
   "execution_count": null,
   "id": "b4aaf849",
   "metadata": {},
   "outputs": [],
   "source": [
    "for param in model.parameters():\n",
    "    param.requires_grad = False"
   ]
  }
 ],
 "metadata": {
  "kernelspec": {
   "display_name": "Python 3",
   "language": "python",
   "name": "python3"
  },
  "language_info": {
   "codemirror_mode": {
    "name": "ipython",
    "version": 2
   },
   "file_extension": ".py",
   "mimetype": "text/x-python",
   "name": "python",
   "nbconvert_exporter": "python",
   "pygments_lexer": "ipython2",
   "version": "3.12.4"
  }
 },
 "nbformat": 4,
 "nbformat_minor": 5
}
