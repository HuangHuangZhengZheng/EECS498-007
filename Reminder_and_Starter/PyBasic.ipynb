{
 "cells": [
  {
   "cell_type": "markdown",
   "id": "757d4b3e",
   "metadata": {},
   "source": [
    "# Python Basic"
   ]
  },
  {
   "cell_type": "markdown",
   "id": "94b6990f",
   "metadata": {},
   "source": [
    "## * and **"
   ]
  },
  {
   "cell_type": "code",
   "execution_count": 2,
   "id": "8ebd01e2",
   "metadata": {},
   "outputs": [
    {
     "name": "stdout",
     "output_type": "stream",
     "text": [
      "6\n",
      "===\n",
      "[1, 3, 1, 3, 1, 3]\n"
     ]
    }
   ],
   "source": [
    "print(2*3)\n",
    "print('=' * 3)\n",
    "print([1, 3]*3)"
   ]
  },
  {
   "cell_type": "markdown",
   "id": "d3c30f66",
   "metadata": {},
   "source": [
    "### packing"
   ]
  },
  {
   "cell_type": "code",
   "execution_count": null,
   "id": "b2975772",
   "metadata": {},
   "outputs": [
    {
     "name": "stdout",
     "output_type": "stream",
     "text": [
      "1\n",
      "[2, 3, 4, 5]\n"
     ]
    }
   ],
   "source": [
    "# packing and unpacking arguments in Python\n",
    "\n",
    "numbers = [1, 2, 3, 4, 5]\n",
    "\n",
    "first, *rest = numbers\n",
    "\n",
    "print(first)\n",
    "print(rest) # packing with *, into a list\n"
   ]
  },
  {
   "cell_type": "code",
   "execution_count": 4,
   "id": "8d4600fb",
   "metadata": {},
   "outputs": [
    {
     "name": "stdout",
     "output_type": "stream",
     "text": [
      "Hello\n",
      "World\n",
      "!\n"
     ]
    }
   ],
   "source": [
    "def hello_world(*args):\n",
    "    for arg in args:\n",
    "        print(arg)\n",
    "\n",
    "hello_world(\"Hello\", \"World\", \"!\")"
   ]
  },
  {
   "cell_type": "code",
   "execution_count": null,
   "id": "e462bb58",
   "metadata": {},
   "outputs": [
    {
     "name": "stdout",
     "output_type": "stream",
     "text": [
      "name : John\n",
      "age : 25\n",
      "city : New York\n"
     ]
    }
   ],
   "source": [
    "def my_function(**kwargs): # into a dictionary\n",
    "    for key, value in kwargs.items():\n",
    "        print(key, \":\", value)\n",
    "\n",
    "my_function(name=\"John\", age=25, city=\"New York\")"
   ]
  },
  {
   "cell_type": "markdown",
   "id": "343fccd4",
   "metadata": {},
   "source": [
    "### unpacking"
   ]
  },
  {
   "cell_type": "code",
   "execution_count": 6,
   "id": "0729274f",
   "metadata": {},
   "outputs": [
    {
     "name": "stdout",
     "output_type": "stream",
     "text": [
      "Hello, my name is John and I am 25 years old.\n"
     ]
    }
   ],
   "source": [
    "def greet(name, age):\n",
    "    print(\"Hello, my name is \" + name + \" and I am \" + str(age) + \" years old.\")\n",
    "\n",
    "person = (\"John\", 25)\n",
    "greet(*person)"
   ]
  },
  {
   "cell_type": "code",
   "execution_count": 8,
   "id": "5d5812e6",
   "metadata": {},
   "outputs": [
    {
     "name": "stdout",
     "output_type": "stream",
     "text": [
      "[1, 2, 3, 4, 5, 6, 7, 8, 9, 10]\n"
     ]
    }
   ],
   "source": [
    "list1 = [1, 2, 3, 4, 5]\n",
    "tuple1 = (6, 7, 8, 9, 10)\n",
    "# merged_list = list1 + tuple1\n",
    "merged_list = [*list1, *tuple1]\n",
    "print(merged_list)"
   ]
  },
  {
   "cell_type": "code",
   "execution_count": 9,
   "id": "6679548c",
   "metadata": {},
   "outputs": [
    {
     "name": "stdout",
     "output_type": "stream",
     "text": [
      "Name: John\n",
      "Age: 25\n",
      "Gender: Male\n"
     ]
    }
   ],
   "source": [
    "def info(name, age, gender):\n",
    "    print(\"Name:\", name)\n",
    "    print(\"Age:\", age)\n",
    "    print(\"Gender:\", gender)\n",
    "\n",
    "infomation = {\"name\": \"John\", \"age\": 25, \"gender\": \"Male\"}\n",
    "\n",
    "info(**infomation)\n"
   ]
  },
  {
   "cell_type": "code",
   "execution_count": 12,
   "id": "9f8a21c6",
   "metadata": {},
   "outputs": [
    {
     "name": "stdout",
     "output_type": "stream",
     "text": [
      "{'name': 'John', 'age': 25, 'city': 'New York', 'name2': 'Jane', 'age2': 30, 'city2': 'San Francisco'}\n"
     ]
    }
   ],
   "source": [
    "d1 = {'name': 'John', 'age': 25, 'city': 'New York'}\n",
    "d2 = {'name2': 'Jane', 'age2': 30, 'city2': 'San Francisco'}\n",
    "\n",
    "merged_dict = {**d1, **d2}\n",
    "\n",
    "print(merged_dict)"
   ]
  },
  {
   "cell_type": "markdown",
   "id": "e7e969a1",
   "metadata": {},
   "source": [
    "## 装饰器"
   ]
  },
  {
   "cell_type": "code",
   "execution_count": 13,
   "id": "64fe205f",
   "metadata": {},
   "outputs": [
    {
     "name": "stdout",
     "output_type": "stream",
     "text": [
      "Function long_running_function took 1.0011 seconds to run.\n"
     ]
    }
   ],
   "source": [
    "import time\n",
    "import functools\n",
    "\n",
    "def timer(threshold):\n",
    "    def decorator(func):\n",
    "        @functools.wraps(func) # try to comment this line and see what happens\n",
    "        def wrapper(*args, **kwargs):\n",
    "            start_time = time.time()\n",
    "            result = func(*args, **kwargs)\n",
    "            end_time = time.time()\n",
    "            if end_time - start_time > threshold:\n",
    "                print(f\"Function {func.__name__} took {end_time - start_time:.4f} seconds to run.\")\n",
    "            return result\n",
    "        return wrapper\n",
    "    return decorator\n",
    "\n",
    "@timer(0.5)\n",
    "def long_running_function():\n",
    "    time.sleep(1)\n",
    "\n",
    "long_running_function()\n"
   ]
  },
  {
   "cell_type": "markdown",
   "id": "340dc1a2",
   "metadata": {},
   "source": [
    "## tqdm"
   ]
  },
  {
   "cell_type": "code",
   "execution_count": 14,
   "id": "7192e529",
   "metadata": {},
   "outputs": [
    {
     "name": "stdout",
     "output_type": "stream",
     "text": [
      "Name: tqdm\n",
      "Version: 4.66.5\n",
      "Summary: Fast, Extensible Progress Meter\n",
      "Home-page: https://tqdm.github.io\n",
      "Author: \n",
      "Author-email: \n",
      "License: MPL-2.0 AND MIT\n",
      "Location: D:\\miniconda3\\envs\\ds100\\Lib\\site-packages\n",
      "Requires: colorama\n",
      "Required-by: python-on-whales\n"
     ]
    }
   ],
   "source": [
    "!pip show tqdm"
   ]
  },
  {
   "cell_type": "code",
   "execution_count": 19,
   "id": "c5ca8689",
   "metadata": {},
   "outputs": [
    {
     "name": "stderr",
     "output_type": "stream",
     "text": [
      "Loading...: 100%|██████████| 10/10 [00:01<00:00,  9.87it/s]\n"
     ]
    }
   ],
   "source": [
    "from time import sleep\n",
    "from tqdm import tqdm\n",
    "\n",
    "for i in tqdm(iterable=range(10), desc='Loading...'): # just wrap the thing behind the `is`\n",
    "    sleep(0.1)"
   ]
  },
  {
   "cell_type": "code",
   "execution_count": 17,
   "id": "649617e4",
   "metadata": {},
   "outputs": [
    {
     "name": "stderr",
     "output_type": "stream",
     "text": [
      "100%|██████████| 10/10 [00:01<00:00,  9.86it/s]\n"
     ]
    }
   ],
   "source": [
    "from tqdm import trange\n",
    "\n",
    "for i in trange(10):\n",
    "    sleep(0.1)\n"
   ]
  },
  {
   "cell_type": "code",
   "execution_count": null,
   "id": "1f867127",
   "metadata": {},
   "outputs": [
    {
     "name": "stderr",
     "output_type": "stream",
     "text": [
      "100%|██████████| 10/10 [00:01<00:00,  9.89it/s]\n"
     ]
    }
   ],
   "source": [
    "def my_generator():\n",
    "    for i in range(10):\n",
    "        yield i\n",
    "\n",
    "my_gen = my_generator()\n",
    "for _ in tqdm(iterable=my_gen, total=10): # try to ignore the `total`\n",
    "    sleep(0.1)"
   ]
  },
  {
   "cell_type": "code",
   "execution_count": null,
   "id": "02b3a168",
   "metadata": {},
   "outputs": [
    {
     "name": "stderr",
     "output_type": "stream",
     "text": [
      "100%|██████████| 100/100 [00:00<00:00, 492.89it/s]\n"
     ]
    }
   ],
   "source": [
    "# hand write tqdm\n",
    "\n",
    "with tqdm(total=100) as pbar:\n",
    "    pbar.update(20)\n",
    "    sleep(0.1)\n",
    "    pbar.update(30)\n",
    "    sleep(0.1)\n",
    "    pbar.update(50)\n"
   ]
  },
  {
   "cell_type": "code",
   "execution_count": null,
   "id": "cdb684c3",
   "metadata": {},
   "outputs": [],
   "source": [
    "tqdm.pandas(desc=\"progress bar\")"
   ]
  }
 ],
 "metadata": {
  "kernelspec": {
   "display_name": "ds100",
   "language": "python",
   "name": "python3"
  },
  "language_info": {
   "codemirror_mode": {
    "name": "ipython",
    "version": 3
   },
   "file_extension": ".py",
   "mimetype": "text/x-python",
   "name": "python",
   "nbconvert_exporter": "python",
   "pygments_lexer": "ipython3",
   "version": "3.12.4"
  }
 },
 "nbformat": 4,
 "nbformat_minor": 5
}
